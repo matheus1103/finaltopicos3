{
 "cells": [
  {
   "attachments": {},
   "cell_type": "markdown",
   "metadata": {},
   "source": [
    "# Spotify Insights\n",
    "##### Equipe: Matheus Francisco e Otávio Moratelli\n",
    "##### Dataset https://www.kaggle.com/datasets/dhruvildave/spotify-charts\n",
    "note: The value of streams is NULL when the chart column is \"viral50\".\n",
    "\n",
    "1. Carga de um conjunto de dados com um volume de dados adequado para o contexto da\n",
    "disciplina (+1000 registros);\n",
    "2. Realização do pré-processamento sobre o conjunto de dados;\n",
    "3. A partir do conjunto resultante (pré-processado), estatísticas e visualizações devem ser\n",
    "geradas para promover um entendimento inicial dos dados;\n",
    "4. Com o conjunto de dados do item 3 aplique algum algoritmo de aprendizado de máquina,\n",
    "apresente e discuta os resultados obtidos. Talvez seja necessário realizar transformações\n",
    "para que os dados se adequem ao algoritmo escolhido.\n",
    "A partir disso, cada equipe deve realizar uma apresentação discutindo todos os itens da\n",
    "implementação (descrição e carga do conjunto de dados, pré-processamento realizado,\n",
    "estatísticas e visualizações e, por fim, utilização de um algoritmo de aprendizado de máquina\n",
    "com apresentação dos resultados)."
   ]
  },
  {
   "attachments": {},
   "cell_type": "markdown",
   "metadata": {},
   "source": [
    "##### Imports necessários"
   ]
  },
  {
   "cell_type": "code",
   "execution_count": null,
   "metadata": {},
   "outputs": [],
   "source": [
    "from pyspark import SparkConf, SparkContext\n",
    "from pyspark.sql import SparkSession\n",
    "from pyspark.sql import DataFrame\n",
    "import pyspark.sql.functions as f\n",
    "import pyspark.sql.types as t\n",
    "import pandas as pd\n",
    "import time"
   ]
  },
  {
   "attachments": {},
   "cell_type": "markdown",
   "metadata": {},
   "source": [
    "### Carga de dados com um volume de dados adequado (+26M de registros);\n",
    "O código abaixo cria o dataframe em chunks de tamanho 100000 para melhorar a performance da carga dos dados.\n"
   ]
  },
  {
   "cell_type": "code",
   "execution_count": null,
   "metadata": {},
   "outputs": [],
   "source": [
    "spotify_data = pd.read_csv(\"charts.csv\", chunksize=100000)\n",
    "spotify_data = pd.concat(spotify_data, ignore_index=True)\n",
    "spotify_data.head(5)"
   ]
  },
  {
   "attachments": {},
   "cell_type": "markdown",
   "metadata": {},
   "source": [
    "Backup de dados (apenas para desenvolvimento)"
   ]
  },
  {
   "cell_type": "code",
   "execution_count": null,
   "metadata": {},
   "outputs": [],
   "source": [
    "backup = spotify_data\n",
    "backup.shape"
   ]
  },
  {
   "attachments": {},
   "cell_type": "markdown",
   "metadata": {},
   "source": [
    "#### Pré-processamento de dados\n",
    "O código abaixo realiza o pré-processamento dos dados, removendo as colunas que não serão utilizadas e removendo os registros que não possuem valor para a coluna streams.\n",
    "\n",
    "Também é selecionado um determinado periodo de tempo, neste caso de primeiro de abril de 2020 até o dia 30 de abril de 2020."
   ]
  },
  {
   "cell_type": "code",
   "execution_count": null,
   "metadata": {},
   "outputs": [],
   "source": [
    "start_date = '2020-04-01'\n",
    "end_date = '2020-04-30'\n",
    "mask = spotify_data['date'].between(start_date, end_date)\n",
    "spotify_data = spotify_data.loc[mask]\n",
    "spotify_data.shape"
   ]
  },
  {
   "attachments": {},
   "cell_type": "markdown",
   "metadata": {},
   "source": [
    "#### Remoção de caracteres especiais, mudança nos nomes definidos na coluna trend e eliminação de registros com valores nulos"
   ]
  },
  {
   "cell_type": "code",
   "execution_count": null,
   "metadata": {},
   "outputs": [],
   "source": [
    "import re\n",
    "spotify_data = spotify_data.replace(re.compile(r'[^\\w\\s]+'), '', regex=True)\n",
    "spotify_data['trend'] = spotify_data['trend'].replace('MOVE_DOWN', 0)\n",
    "spotify_data['trend'] = spotify_data['trend'].replace('MOVE_UP', 1)\n",
    "spotify_data['trend'] = spotify_data['trend'].replace('SAME_POSITION', 2)\n",
    "spotify_data['trend'] = spotify_data['trend'].replace('NEW_ENTRY', 3)\n",
    "\n",
    "missing = spotify_data.isna()\n",
    "spotify_data = spotify_data.dropna()"
   ]
  },
  {
   "attachments": {},
   "cell_type": "markdown",
   "metadata": {},
   "source": [
    "##### Definição da região do Brasil"
   ]
  },
  {
   "cell_type": "code",
   "execution_count": null,
   "metadata": {},
   "outputs": [],
   "source": [
    "\n",
    "condition = (spotify_data['region'] == 'Brazil')\n",
    "brazil = spotify_data.loc[condition]\n",
    "brazil = brazil.sort_values(by=['rank'] , ascending=True)\n",
    "brazil.head(5)"
   ]
  },
  {
   "attachments": {},
   "cell_type": "markdown",
   "metadata": {},
   "source": [
    "# Análise dos dados\n",
    "#### Top 10 artistas com mais streams no mês de abril de 2020"
   ]
  },
  {
   "cell_type": "code",
   "execution_count": null,
   "metadata": {},
   "outputs": [],
   "source": [
    "import matplotlib.pyplot as plt\n",
    "import numpy as np\n",
    "from mpl_toolkits.mplot3d import axes3d\n",
    "\n",
    "brazil_best_up_10 = brazil.loc[brazil['rank'] <= 10]\n",
    "brazil_best_up_10 = brazil_best_up_10.sort_values(by=['streams'] , ascending=False)\n",
    "top10 = brazil_best_up_10.groupby('artist').mean()\n",
    "top10.drop(['rank', 'trend'], axis=1, inplace=True)\n",
    "\n",
    "\n",
    "top10 = top10.nlargest(10, 'streams')\n",
    "\n",
    "\n",
    "print(top10)\n",
    "y = top10['streams']\n",
    "# z = brazil['rank']\n",
    "X = top10.index\n",
    "# plot\n",
    "plt.figure(figsize=(20, 10))\n",
    "fig, ax = plt.subplots()\n",
    "sizes = np.random.uniform(150, 800, len(X))\n",
    "colors = np.random.uniform(15, 80, len(X))\n",
    "ax.scatter(X, y, s=sizes, c=colors)\n",
    "\n",
    "plt.show()\n"
   ]
  },
  {
   "attachments": {},
   "cell_type": "markdown",
   "metadata": {},
   "source": [
    "### Streams das musicas dos artistas que passaram no topo da parada"
   ]
  },
  {
   "cell_type": "code",
   "execution_count": null,
   "metadata": {},
   "outputs": [],
   "source": [
    "import seaborn as sns\n",
    "\n",
    "fig, axes = plt.subplots(figsize=(20,7))\n",
    "sns.lineplot(x = 'date', y = 'streams', data=brazil_best_up_10, hue='title', ci=None).set_title('Top ')"
   ]
  },
  {
   "attachments": {},
   "cell_type": "markdown",
   "metadata": {},
   "source": [
    "### Rank da Luiza Sonza"
   ]
  },
  {
   "cell_type": "code",
   "execution_count": null,
   "metadata": {},
   "outputs": [],
   "source": [
    "luiza = brazil.loc[brazil['artist'] == 'Luísa Sonza']\n",
    "\n",
    "fig, axes = plt.subplots(figsize=(20,7))\n",
    "sns.lineplot(x = 'date', y = 'rank', data=luiza, hue='title', ci=None).set_title('Rank Da Luiza')"
   ]
  },
  {
   "attachments": {},
   "cell_type": "markdown",
   "metadata": {},
   "source": [
    "### Streams Gusttavo Lima"
   ]
  },
  {
   "cell_type": "code",
   "execution_count": null,
   "metadata": {},
   "outputs": [],
   "source": [
    "gustavo = brazil.loc[brazil['artist'] == 'Gusttavo Lima']\n",
    "fig, axes = plt.subplots(figsize=(20,7))\n",
    "sns.lineplot(x = 'date', y = 'streams', data=gustavo, hue='title', ci=None).set_title('Streams do Gustavo Lima')"
   ]
  },
  {
   "attachments": {},
   "cell_type": "markdown",
   "metadata": {},
   "source": [
    "# Wordcloud\n",
    "#### Wordcloud dos artistas mais tocados no mês de abril de 2020"
   ]
  },
  {
   "cell_type": "code",
   "execution_count": null,
   "metadata": {},
   "outputs": [],
   "source": [
    "import matplotlib.pyplot as plt\n",
    "\n",
    "from wordcloud import WordCloud\n",
    "\n",
    "def visualize_word_counts(counts):\n",
    "    wc = WordCloud(max_font_size=130, min_font_size=25, colormap='tab20', background_color='white',\n",
    "                   prefer_horizontal=.95, width=2100, height=700, random_state=0)\n",
    "    cloud = wc.generate_from_frequencies(counts)\n",
    "    plt.figure(figsize=(18,15))\n",
    "    plt.imshow(cloud, interpolation='bilinear')\n",
    "    plt.axis('off')\n",
    "    plt.show()\n",
    "\n",
    "counts = brazil['artist'].value_counts()\n",
    "\n",
    "visualize_word_counts(counts)"
   ]
  },
  {
   "attachments": {},
   "cell_type": "markdown",
   "metadata": {},
   "source": [
    "# Algoritmo de classificação"
   ]
  },
  {
   "cell_type": "code",
   "execution_count": null,
   "metadata": {},
   "outputs": [],
   "source": [
    "import numpy\n",
    "import matplotlib.pyplot as plt\n",
    "\n",
    "x = numpy.random.uniform(brazil_best_up_10['streams'])\n",
    "\n",
    "plt.hist(x, 100)\n",
    "plt.show()"
   ]
  }
 ],
 "metadata": {
  "kernelspec": {
   "display_name": "Python 3 (ipykernel)",
   "language": "python",
   "name": "python3"
  },
  "language_info": {
   "codemirror_mode": {
    "name": "ipython",
    "version": 3
   },
   "file_extension": ".py",
   "mimetype": "text/x-python",
   "name": "python",
   "nbconvert_exporter": "python",
   "pygments_lexer": "ipython3",
   "version": "3.10.7 (main, Nov  2 2022, 18:49:29) [GCC 12.2.0]"
  },
  "vscode": {
   "interpreter": {
    "hash": "31f2aee4e71d21fbe5cf8b01ff0e069b9275f58929596ceb00d14d90e3e16cd6"
   }
  }
 },
 "nbformat": 4,
 "nbformat_minor": 2
}
